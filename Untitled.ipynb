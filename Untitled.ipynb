{
 "cells": [
  {
   "cell_type": "code",
   "execution_count": 1,
   "metadata": {},
   "outputs": [],
   "source": [
    "import pandas as pd\n",
    "import geopandas\n",
    "from opt_funcs import optimise\n",
    "from opt_funcs_p import optimise_parallel\n",
    "import matplotlib.pyplot as plt\n",
    "\n",
    "buildings_df = pd.read_csv(\"save_files/buildings_all_zones_df.csv\")\n",
    "grid_gdf = geopandas.read_file(\"save_files/grid_250.shp\")\n",
    "grid_intervals = 250"
   ]
  },
  {
   "cell_type": "code",
   "execution_count": 2,
   "metadata": {},
   "outputs": [],
   "source": [
    "saved_results_vars = pd.read_csv(\"save_files/var_init.csv\",index_col=0)\n",
    "saved_results_obj = pd.read_csv(\"save_files/ob_init.csv\",index_col=0)"
   ]
  },
  {
   "cell_type": "code",
   "execution_count": null,
   "metadata": {},
   "outputs": [],
   "source": [
    "res = optimise(n_fac=12,\n",
    "               n_iterations=15000,\n",
    "               buildings_df=buildings_df,\n",
    "               grid_gdf=grid_gdf,\n",
    "               grid_intervals=grid_intervals)\n",
    "\n",
    "\n",
    "vardict = {}\n",
    "obdict = {}\n",
    "for r in range(len(res.result)):\n",
    "    vardict[r] = res.result[r].variables\n",
    "    obdict[r] = res.result[r].objectives[:]\n",
    "    \n",
    "pd.DataFrame(obdict).to_csv(\"save_files/ob_init3.csv\")\n",
    "pd.DataFrame(vardict).to_csv(\"save_files/var_init3.csv\")"
   ]
  },
  {
   "cell_type": "code",
   "execution_count": 13,
   "metadata": {},
   "outputs": [],
   "source": [
    "saved_results_vars = pd.read_csv(\"save_files/var_init2.csv\",index_col=0)\n",
    "saved_results_obj = pd.read_csv(\"save_files/ob_init2.csv\",index_col=0)"
   ]
  },
  {
   "cell_type": "code",
   "execution_count": 16,
   "metadata": {},
   "outputs": [
    {
     "data": {
      "text/plain": [
       "1738.666666666667"
      ]
     },
     "execution_count": 16,
     "metadata": {},
     "output_type": "execute_result"
    }
   ],
   "source": [
    "import numpy as np\n",
    "np.min(saved_results_obj.iloc[3])"
   ]
  },
  {
   "cell_type": "code",
   "execution_count": null,
   "metadata": {},
   "outputs": [],
   "source": []
  }
 ],
 "metadata": {
  "kernelspec": {
   "display_name": "Python 3",
   "language": "python",
   "name": "python3"
  },
  "language_info": {
   "codemirror_mode": {
    "name": "ipython",
    "version": 3
   },
   "file_extension": ".py",
   "mimetype": "text/x-python",
   "name": "python",
   "nbconvert_exporter": "python",
   "pygments_lexer": "ipython3",
   "version": "3.8.2"
  }
 },
 "nbformat": 4,
 "nbformat_minor": 4
}
