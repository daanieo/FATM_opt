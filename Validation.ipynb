{
 "cells": [
  {
   "cell_type": "code",
   "execution_count": 1,
   "metadata": {},
   "outputs": [],
   "source": [
    "# Statistical test: sign test for both NSGA II and III; implies that the number of iterations is sufficient \n",
    "\n",
    "# Statistical test: \n",
    "\n",
    "import pandas as pd \n",
    "\n",
    "# 10000 nfe\n",
    "# 10 seeds\n",
    "# NSGAII algorithm\n",
    "# no constraints\n",
    "\n",
    "run_name = \"nfe10000_10_NSGAII_NC\"\n",
    "\n",
    "hypervolumes = pd.read_csv(\"save_files/%s/hypervolumes_%s.csv\"%(run_name,run_name),index_col=0)\n",
    "objectives = pd.read_csv(\"save_files/%s/objectives_%s.csv\"%(run_name,run_name),index_col=0)\n",
    "variables = pd.read_csv(\"save_files/%s/variables_%s.csv\"%(run_name,run_name),index_col=0)\n"
   ]
  },
  {
   "cell_type": "code",
   "execution_count": 2,
   "metadata": {},
   "outputs": [
    {
     "name": "stdout",
     "output_type": "stream",
     "text": [
      "24.0 0.041259765625\n"
     ]
    }
   ],
   "source": []
  },
  {
   "cell_type": "code",
   "execution_count": 4,
   "metadata": {},
   "outputs": [
    {
     "name": "stdout",
     "output_type": "stream",
     "text": [
      "Difference is  0.0 \n",
      "with  0.001953125  confidence\n"
     ]
    }
   ],
   "source": [
    "from scipy.stats import wilcoxon\n",
    "w1,p1 = wilcoxon(hypervolumes.iloc[0,:])\n",
    "print(\"Difference is \",w1,\"\\nwith \",p1,\" confidence\")"
   ]
  },
  {
   "cell_type": "code",
   "execution_count": null,
   "metadata": {},
   "outputs": [],
   "source": [
    "import seaborn\n",
    "objectives.columns = [\"avg_distance\",\"max_distance\",\"penalty\",\"div_coverage\"]\n",
    "seaborn.set_context( rc={\"axes.labelsize\":15})\n",
    "pp = seaborn.pairplot(objectives.iloc[0:100,:])#raw_results.iloc[:,1:])\n",
    "pp.fig.suptitle(\"Pairplot %s\"%run_name,y=1.03,size=25);"
   ]
  },
  {
   "cell_type": "code",
   "execution_count": null,
   "metadata": {},
   "outputs": [],
   "source": [
    "import plotly.express as px\n",
    "fig = px.parallel_coordinates(objectives.iloc[0:100,:], \n",
    "                              #color=\"nb_facs\", \n",
    "                              #dimensions = [\"0\",\"1\",\"2\",\"3\"],\n",
    "                              color_continuous_scale=px.colors.diverging.Tealrose,\n",
    "                              #color_continuous_midpoint=4.5,\n",
    "                              title=\"Parallel axis plot %s\"%run_name)\n",
    "fig.show()"
   ]
  },
  {
   "cell_type": "code",
   "execution_count": null,
   "metadata": {},
   "outputs": [],
   "source": [
    "import geopandas\n",
    "a = geopandas.read_file(\"save_files/grid_250.shp\")"
   ]
  },
  {
   "cell_type": "code",
   "execution_count": null,
   "metadata": {},
   "outputs": [],
   "source": [
    "b = a[a.roads==1]"
   ]
  },
  {
   "cell_type": "code",
   "execution_count": null,
   "metadata": {},
   "outputs": [],
   "source": [
    "len(b)"
   ]
  },
  {
   "cell_type": "code",
   "execution_count": null,
   "metadata": {},
   "outputs": [],
   "source": []
  }
 ],
 "metadata": {
  "kernelspec": {
   "display_name": "Python 3",
   "language": "python",
   "name": "python3"
  },
  "language_info": {
   "codemirror_mode": {
    "name": "ipython",
    "version": 3
   },
   "file_extension": ".py",
   "mimetype": "text/x-python",
   "name": "python",
   "nbconvert_exporter": "python",
   "pygments_lexer": "ipython3",
   "version": "3.8.2"
  }
 },
 "nbformat": 4,
 "nbformat_minor": 4
}
