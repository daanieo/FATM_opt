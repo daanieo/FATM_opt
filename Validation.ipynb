{
 "cells": [
  {
   "cell_type": "code",
   "execution_count": 1,
   "metadata": {},
   "outputs": [],
   "source": [
    "# Statistical test: sign test for both NSGA II and III; implies that the number of iterations is sufficient \n",
    "\n",
    "# Statistical test: \n",
    "\n",
    "import pandas as pd \n",
    "\n",
    "# 10000 nfe\n",
    "# 10 seeds\n",
    "# NSGAII algorithm\n",
    "# no constraints\n",
    "\n",
    "run_name = \"nfe10000_10_NSGAII_NC\"\n",
    "\n",
    "hypervolumes = pd.read_csv(\"save_files/%s/hypervolumes_%s.csv\"%(run_name,run_name),index_col=0)\n",
    "objectives = pd.read_csv(\"save_files/%s/objectives_%s.csv\"%(run_name,run_name),index_col=0)\n",
    "variables = pd.read_csv(\"save_files/%s/variables_%s.csv\"%(run_name,run_name),index_col=0)\n",
    "\n",
    "run_name2 = \"nfe10000_10_MOEAD_NC\"\n",
    "\n",
    "hypervolumes2 = pd.read_csv(\"save_files/%s/hypervolumes_%s.csv\"%(run_name2,run_name2),index_col=0)\n",
    "objectives2 = pd.read_csv(\"save_files/%s/objectives_%s.csv\"%(run_name2,run_name2),index_col=0)\n",
    "variables2 = pd.read_csv(\"save_files/%s/variables_%s.csv\"%(run_name2,run_name2),index_col=0)\n",
    "\n",
    "\n"
   ]
  },
  {
   "cell_type": "code",
   "execution_count": 2,
   "metadata": {},
   "outputs": [
    {
     "data": {
      "text/plain": [
       "(0.0, 9.0)"
      ]
     },
     "execution_count": 2,
     "metadata": {},
     "output_type": "execute_result"
    },
    {
     "data": {
      "image/png": "[encoded data removed]",
      "text/plain": [
       "<Figure size 432x288 with 1 Axes>"
      ]
     },
     "metadata": {
      "needs_background": "light"
     },
     "output_type": "display_data"
    }
   ],
   "source": [
    "import matplotlib.pyplot as plt\n",
    "plt.plot(hypervolumes.iloc[0,:])\n",
    "plt.plot(hypervolumes2.iloc[0,:])\n",
    "plt.legend([\"NSGAII\",\"e-MOEA\"])\n",
    "plt.ylim([0,1.0])\n",
    "plt.xlim([0,9])"
   ]
  },
  {
   "cell_type": "code",
   "execution_count": 4,
   "metadata": {},
   "outputs": [
    {
     "data": {
      "image/png": "[encoded data removed]",
      "text/plain": [
       "<Figure size 432x288 with 1 Axes>"
      ]
     },
     "metadata": {
      "needs_background": "light"
     },
     "output_type": "display_data"
    }
   ],
   "source": [
    "import matplotlib.pyplot as plt\n",
    "\n",
    "# fig, ax = plt.subplots(1,1)\n",
    "plt.boxplot([hypervolumes.iloc[0,:],hypervolumes2.iloc[0,:]]);\n",
    "# plt.title(\"Boxplots hypervolumes NSGAII & MOEAD, 10000nfe\");\n",
    "plt.xticks(range(1,3),[\"NSGA-II\",\"e-MOEAD\"]);\n",
    "plt.ylabel(\"Hypervolume [-]\");\n",
    "\n",
    "plt.savefig(\"/home/daan/Desktop/hypervolumes.png\")\n"
   ]
  },
  {
   "cell_type": "code",
   "execution_count": 7,
   "metadata": {},
   "outputs": [
    {
     "ename": "NameError",
     "evalue": "name 'hypervolumes' is not defined",
     "output_type": "error",
     "traceback": [
      "\u001b[0;31m---------------------------------------------------------------------------\u001b[0m",
      "\u001b[0;31mNameError\u001b[0m                                 Traceback (most recent call last)",
      "\u001b[0;32m<ipython-input-7-f8dfac019938>\u001b[0m in \u001b[0;36m<module>\u001b[0;34m\u001b[0m\n\u001b[1;32m      1\u001b[0m \u001b[0;32mfrom\u001b[0m \u001b[0mscipy\u001b[0m\u001b[0;34m.\u001b[0m\u001b[0mstats\u001b[0m \u001b[0;32mimport\u001b[0m \u001b[0mwilcoxon\u001b[0m\u001b[0;34m\u001b[0m\u001b[0;34m\u001b[0m\u001b[0m\n\u001b[0;32m----> 2\u001b[0;31m \u001b[0mwilcoxon\u001b[0m\u001b[0;34m(\u001b[0m\u001b[0mhypervolumes\u001b[0m\u001b[0;34m.\u001b[0m\u001b[0miloc\u001b[0m\u001b[0;34m[\u001b[0m\u001b[0;36m0\u001b[0m\u001b[0;34m,\u001b[0m\u001b[0;34m:\u001b[0m\u001b[0;34m]\u001b[0m\u001b[0;34m,\u001b[0m\u001b[0mhypervolumes2\u001b[0m\u001b[0;34m.\u001b[0m\u001b[0miloc\u001b[0m\u001b[0;34m[\u001b[0m\u001b[0;36m0\u001b[0m\u001b[0;34m,\u001b[0m\u001b[0;34m:\u001b[0m\u001b[0;34m]\u001b[0m\u001b[0;34m)\u001b[0m\u001b[0;34m\u001b[0m\u001b[0;34m\u001b[0m\u001b[0m\n\u001b[0m",
      "\u001b[0;31mNameError\u001b[0m: name 'hypervolumes' is not defined"
     ]
    }
   ],
   "source": [
    "from scipy.stats import wilcoxon\n",
    "wilcoxon(hypervolumes.iloc[0,:],hypervolumes2.iloc[0,:])"
   ]
  },
  {
   "cell_type": "code",
   "execution_count": null,
   "metadata": {},
   "outputs": [],
   "source": [
    "\n"
   ]
  },
  {
   "cell_type": "code",
   "execution_count": null,
   "metadata": {},
   "outputs": [],
   "source": []
  }
 ],
 "metadata": {
  "kernelspec": {
   "display_name": "Python 3",
   "language": "python",
   "name": "python3"
  },
  "language_info": {
   "codemirror_mode": {
    "name": "ipython",
    "version": 3
   },
   "file_extension": ".py",
   "mimetype": "text/x-python",
   "name": "python",
   "nbconvert_exporter": "python",
   "pygments_lexer": "ipython3",
   "version": "3.8.2"
  }
 },
 "nbformat": 4,
 "nbformat_minor": 4
}
